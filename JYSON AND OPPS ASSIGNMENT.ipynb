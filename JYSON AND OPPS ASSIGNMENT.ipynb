{
 "cells": [
  {
   "cell_type": "markdown",
   "metadata": {},
   "source": [
    "Assignment 1"
   ]
  },
  {
   "cell_type": "markdown",
   "metadata": {},
   "source": [
    "1. Write a python program that reads this information from the JSON file and saves the information into a list of objects of Employee class."
   ]
  },
  {
   "cell_type": "code",
   "execution_count": 7,
   "metadata": {},
   "outputs": [],
   "source": [
    "import json"
   ]
  },
  {
   "cell_type": "code",
   "execution_count": 14,
   "metadata": {},
   "outputs": [
    {
     "name": "stdout",
     "output_type": "stream",
     "text": [
      "{'id': '01', 'name': 'Amit', 'D.O.B': '23/09/1999', 'Height': '172cm', 'City': 'Korba', 'State': 'Chhattisgarh'}\n",
      "{'id': '02', 'name': 'Soman', 'D.O.B': '21/08/1997', 'Height': '162cm', 'City': 'Kolkata', 'State': 'West Bengal'}\n",
      "{'id': '03', 'name': 'Vinay', 'D.O.B': '03/03/1998', 'Height': '180cm', 'City': 'Gaya', 'State': 'Bihar'}\n",
      "{'id': '04', 'name': 'Raj', 'D.O.B': '13/07/2000', 'Height': '172cm', 'City': 'kochhi', 'State': 'Keral'}\n",
      "{'id': '05', 'name': 'Kumar', 'D.O.B': '20/05/1997', 'Height': '168cm', 'City': 'Bhopal', 'State': 'Madhya Pradesh'}\n"
     ]
    }
   ],
   "source": [
    "import json\n",
    "  \n",
    "# Opening JSON file\n",
    "f = open('Employee.json')\n",
    "  \n",
    "# returns JSON object as \n",
    "# a dictionary\n",
    "data = json.load(f)\n",
    "  \n",
    "# Iterating through the json\n",
    "# list\n",
    "for i in data['employee']:\n",
    "    print(i)\n",
    "  \n",
    "# Closing file\n",
    "f.close()"
   ]
  },
  {
   "cell_type": "markdown",
   "metadata": {},
   "source": [
    "2. Create a dictionary of any 7 Indian states and their capitals. Write this into a JSON file"
   ]
  },
  {
   "cell_type": "code",
   "execution_count": 15,
   "metadata": {},
   "outputs": [
    {
     "name": "stdout",
     "output_type": "stream",
     "text": [
      "{'No.': '01', 'Indian State': 'Chhattisgarh', 'Capital': 'Raipur'}\n",
      "{'No.': '02', 'Indian State': 'Madhya Pradesh', 'Capital': 'Bhopal'}\n",
      "{'No.': '03', 'Indian State': 'West Bengal', 'Capital': 'Kolkata'}\n",
      "{'No.': '04', 'Indian State': 'Bihar', 'Capital': 'Patna'}\n",
      "{'No.': '05', 'Indian State': 'Telangana', 'Capital': 'Hydrabad'}\n",
      "{'No.': '06', 'Indian State': 'Karnatka', 'Capital': 'Banglore'}\n",
      "{'No.': '07', 'Indian State': 'Tamil Nadu', 'Capital': 'Chennai'}\n"
     ]
    }
   ],
   "source": [
    "import json\n",
    "  \n",
    "# Opening JSON file\n",
    "f = open('State.json')\n",
    "  \n",
    "# returns JSON object as \n",
    "# a dictionary\n",
    "data = json.load(f)\n",
    "  \n",
    "# Iterating through the json\n",
    "# list\n",
    "for i in data['State']:\n",
    "    print(i)\n",
    "  \n",
    "# Closing file\n",
    "f.close()"
   ]
  },
  {
   "cell_type": "markdown",
   "metadata": {},
   "source": [
    "Assignment 2"
   ]
  },
  {
   "cell_type": "markdown",
   "metadata": {},
   "source": [
    "Create a class named ‘Dog’. It should have a constructor which accepts its name, age and coat color. You must perform the following operations:\n",
    "\n",
    "🔴 a. It should have a function ‘description()’ which prints the name and age of the dog.\n",
    "\n",
    "🔴 b. It should have a function ‘get_info()’ which prints the coat color of the dog.\n",
    "\n",
    "🔴 c. Create child classes ‘JackRussellTerrier’ and ‘Bulldog’ which is inherited from the class ‘Dog’. It should have at least two methods of its own.\n",
    "\n",
    "🔴 d. Create objects and implement the above functionalities."
   ]
  },
  {
   "cell_type": "code",
   "execution_count": 24,
   "metadata": {},
   "outputs": [
    {
     "name": "stdout",
     "output_type": "stream",
     "text": [
      "The animal is called Daisy and is yellow.\n"
     ]
    },
    {
     "name": "stderr",
     "output_type": "stream",
     "text": [
      "\n",
      "KeyboardInterrupt\n",
      "\n"
     ]
    }
   ],
   "source": [
    "class Animal(object):\n",
    "\n",
    "      def __init__(self, name, legs, color): \n",
    "            self.name = name\n",
    "            self.legs = legs\n",
    "            self.color = color\n",
    "\n",
    "      def get_info(self):\n",
    "            print('The animal is called ' + self.name + ' and is ' + self.color + '.')\n",
    "\n",
    "giraffe = Animal('Daisy', 4, 'yellow')\n",
    "giraffe.get_info()\n",
    "print(Animal.get_info())"
   ]
  },
  {
   "cell_type": "code",
   "execution_count": 22,
   "metadata": {},
   "outputs": [],
   "source": [
    "class Pets:\n",
    "\n",
    "    def __init__(self,dogs):\n",
    "        self.dogs=dogs\n",
    "\n",
    "\n",
    "class Dog:\n",
    "\n",
    "    # Class attribute\n",
    "    species = 'mammal'\n",
    "\n",
    "    # Initializer / Instance attributes\n",
    "    def __init__(self, name, age):\n",
    "        self.name = name\n",
    "        self.age = age\n",
    "        self.is_hungry = True\n",
    "\n",
    "# instance method\n",
    "    def eat(self):\n",
    "        self.is_hungry = False\n",
    "\n",
    "#Walk instance method\n",
    "    def walk(self):\n",
    "        return \"{} is walking!\" .format(self.name)\n",
    "\n",
    "# Child class (inherits from Dog class)\n",
    "class RussellTerrier(Dog):\n",
    "    def run(self, speed):\n",
    "        return \"{} runs {}\".format(self.name, speed)\n",
    "\n",
    "# Child class (inherits from Dog class)\n",
    "class Bulldog(Dog):\n",
    "    def run(self, speed):\n",
    "        return \"{} runs {}\".format(self.name, speed)\n",
    "\n",
    "# create isntances of dogs\n",
    "my_dogs = [\n",
    "    Bulldog(\"Tom\", 6),\n",
    "    RussellTerrier(\"Fletcher\", 7),\n",
    "    Dog(\"Larry\", 9)\n",
    "]\n",
    "\n",
    "my_Pets=Pets(my_dogs)\n",
    "\n",
    "#walking\n",
    "\n",
    "for doggy in my_Pets.dogs:\n",
    "    doggy.walk()"
   ]
  },
  {
   "cell_type": "code",
   "execution_count": null,
   "metadata": {},
   "outputs": [],
   "source": []
  }
 ],
 "metadata": {
  "kernelspec": {
   "display_name": "Python 3.10.8 64-bit",
   "language": "python",
   "name": "python3"
  },
  "language_info": {
   "codemirror_mode": {
    "name": "ipython",
    "version": 3
   },
   "file_extension": ".py",
   "mimetype": "text/x-python",
   "name": "python",
   "nbconvert_exporter": "python",
   "pygments_lexer": "ipython3",
   "version": "3.10.8"
  },
  "orig_nbformat": 4,
  "vscode": {
   "interpreter": {
    "hash": "26de051ba29f2982a8de78e945f0abaf191376122a1563185a90213a26c5da77"
   }
  }
 },
 "nbformat": 4,
 "nbformat_minor": 2
}
